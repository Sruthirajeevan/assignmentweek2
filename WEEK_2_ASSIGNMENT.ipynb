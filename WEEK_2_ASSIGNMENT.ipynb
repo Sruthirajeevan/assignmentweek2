{
  "nbformat": 4,
  "nbformat_minor": 0,
  "metadata": {
    "colab": {
      "provenance": []
    },
    "kernelspec": {
      "name": "python3",
      "display_name": "Python 3"
    },
    "language_info": {
      "name": "python"
    }
  },
  "cells": [
    {
      "cell_type": "markdown",
      "source": [
        "1.ANSWER"
      ],
      "metadata": {
        "id": "N8Yp17ztYkYr"
      }
    },
    {
      "cell_type": "code",
      "source": [
        " secret_number=5\n",
        " while True:\n",
        "  guess=int(input(\"enter your guess:\"))\n",
        "  if(guess<10):\n",
        "    if(guess==secret_number):\n",
        "      print(\"congradutalion!You guessed the number correctly\")\n",
        "      break\n",
        "    elif(guess<secret_number):\n",
        "      print(\"Too low Try again\")\n",
        "    elif(guess>secret_number):\n",
        "      print(\"Too high Try again\")\n",
        "\n",
        "  else:\n",
        "    print(\"number must be  in between 1 and 10\")\n",
        "\n",
        "\n",
        "\n"
      ],
      "metadata": {
        "colab": {
          "base_uri": "https://localhost:8080/"
        },
        "id": "XVV_GK4XC_IS",
        "outputId": "6c3e6881-ed07-4d40-cdb6-950415c748be"
      },
      "execution_count": null,
      "outputs": [
        {
          "output_type": "stream",
          "name": "stdout",
          "text": [
            "enter your guess:7\n",
            "Too high Try again\n",
            "enter your guess:3\n",
            "Too low Try again\n",
            "enter your guess:5\n",
            "congradutalion!You guessed the number correctly\n"
          ]
        }
      ]
    },
    {
      "cell_type": "markdown",
      "source": [
        "2.ANSWER"
      ],
      "metadata": {
        "id": "GQaKbVpNYpuI"
      }
    },
    {
      "cell_type": "code",
      "execution_count": 13,
      "metadata": {
        "colab": {
          "base_uri": "https://localhost:8080/"
        },
        "id": "CYijut2E904M",
        "outputId": "6dd60c9c-f1d7-418b-8d0a-cf14dc91744b"
      },
      "outputs": [
        {
          "output_type": "stream",
          "name": "stdout",
          "text": [
            "enter a number5\n",
            "Factorial=120\n"
          ]
        }
      ],
      "source": [
        " i=1\n",
        " fact=1\n",
        " num1=int(input(\"enter a number\"))\n",
        " while i<=num1:\n",
        "  fact=fact*i\n",
        "\n",
        "  i=i+1\n",
        "print(\"Factorial=\"+str(fact))"
      ]
    },
    {
      "cell_type": "markdown",
      "source": [
        "3.ANSWER"
      ],
      "metadata": {
        "id": "FvZuRxjjZMx8"
      }
    },
    {
      "cell_type": "code",
      "source": [
        "l=25\n",
        "while True:\n",
        " w=int(input(\"enter width\"))\n",
        " h=int(input(\"enter height\"))\n",
        " max_dimension=l*l\n",
        " dimension_photo=w*h\n",
        " if(dimension_photo==max_dimension):\n",
        "  print(\"ACCEPTED\")\n",
        "  break\n",
        " if(dimension_photo<max_dimension):\n",
        "  print(\"UPLOAD ANOTHER\")\n",
        " elif(dimension_photo>max_dimension):\n",
        "  print(\"CROP IT\")\n",
        "  break\n",
        "\n",
        "\n",
        "\n",
        "\n"
      ],
      "metadata": {
        "colab": {
          "base_uri": "https://localhost:8080/"
        },
        "id": "1MuMaQzoALeM",
        "outputId": "8d34877b-bc33-4a28-f736-f45637e3b8ba"
      },
      "execution_count": 14,
      "outputs": [
        {
          "output_type": "stream",
          "name": "stdout",
          "text": [
            "enter width3\n",
            "enter height4\n",
            "UPLOAD ANOTHER\n",
            "enter width24\n",
            "enter height25\n",
            "UPLOAD ANOTHER\n",
            "enter width25\n",
            "enter height26\n",
            "CROP IT\n"
          ]
        }
      ]
    },
    {
      "cell_type": "code",
      "source": [],
      "metadata": {
        "id": "B3uanQEsaZDP"
      },
      "execution_count": null,
      "outputs": []
    }
  ]
}